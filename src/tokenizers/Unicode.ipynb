{
  "nbformat": 4,
  "nbformat_minor": 0,
  "metadata": {
    "colab": {
      "provenance": [],
      "authorship_tag": "ABX9TyNFCcaVN9INUanlXAZeVQQs",
      "include_colab_link": true
    },
    "kernelspec": {
      "name": "python3",
      "display_name": "Python 3"
    },
    "language_info": {
      "name": "python"
    }
  },
  "cells": [
    {
      "cell_type": "markdown",
      "metadata": {
        "id": "view-in-github",
        "colab_type": "text"
      },
      "source": [
        "<a href=\"https://colab.research.google.com/github/michaelwfc/nanoGPT/blob/develop/src/tokenizers/Unicode.ipynb\" target=\"_parent\"><img src=\"https://colab.research.google.com/assets/colab-badge.svg\" alt=\"Open In Colab\"/></a>"
      ]
    },
    {
      "cell_type": "code",
      "execution_count": null,
      "metadata": {
        "id": "mq3FQneETswA"
      },
      "outputs": [],
      "source": [
        "\n",
        "https://www.reedbeta.com/blog/programmers-intro-to-unicode/"
      ]
    },
    {
      "cell_type": "markdown",
      "source": [],
      "metadata": {
        "id": "OOBRsCtUT4jm"
      }
    },
    {
      "cell_type": "code",
      "source": [
        "code_point_value = ord(\"A\")\n",
        "\n",
        "char = chr(65)\n",
        "\n",
        "print(f\"A's code point value ={code_point_value},back to char={char}\")\n",
        "\n",
        "hex_value = hex(code_point_value)\n",
        "# char_2 = chr(hex_value)\n",
        "print(f\"code_point_value={code_point_value}, to hex={hex_value}, type={type(hex_value)}\")\n",
        "# ,back to char_2={char_2}"
      ],
      "metadata": {
        "colab": {
          "base_uri": "https://localhost:8080/"
        },
        "id": "fWRxJgjNWR_a",
        "outputId": "cbb954a9-f674-4b37-de53-862fe49eca70"
      },
      "execution_count": 19,
      "outputs": [
        {
          "output_type": "stream",
          "name": "stdout",
          "text": [
            "A's code point value =65,back to char=A\n",
            "code_point_value=65, to hex=0x41, type=<class 'str'>\n"
          ]
        }
      ]
    },
    {
      "cell_type": "code",
      "source": [
        "# code_point = \"U+0041\"\n",
        "# code_point.encode(\"utf-8\").decode(\"utf-8\")\n",
        "# bytes(code_point, 'utf-8').decode()"
      ],
      "metadata": {
        "id": "hEeaTvkAVJen"
      },
      "execution_count": 24,
      "outputs": []
    },
    {
      "cell_type": "code",
      "source": [
        "s= \"Hello 你 好\"\n",
        "unicode_code_points = [ord(x) for x in s]\n",
        "print(f\"unicode_code_points:{unicode_code_points}\")\n",
        "\n",
        "s_bytes = s.encode('utf-8')\n",
        "s_bytes\n",
        "print(f\"s_bytes={s_bytes}\")\n",
        "print(f\"s.len={s.__len__()}\")\n",
        "print(f\"s_bytes.len={s_bytes.__len__()}\")"
      ],
      "metadata": {
        "colab": {
          "base_uri": "https://localhost:8080/"
        },
        "id": "V_A_PwSYamiw",
        "outputId": "76635117-1e96-4efc-9eac-564ab5b2ff75"
      },
      "execution_count": 23,
      "outputs": [
        {
          "output_type": "stream",
          "name": "stdout",
          "text": [
            "unicode_code_points:[72, 101, 108, 108, 111, 32, 20320, 32, 22909]\n",
            "s_bytes=b'Hello \\xe4\\xbd\\xa0 \\xe5\\xa5\\xbd'\n",
            "s.len=9\n",
            "s_bytes.len=13\n"
          ]
        }
      ]
    },
    {
      "cell_type": "code",
      "source": [
        "# 0xb\n",
        "char_bytes = \"你\".encode()\n",
        "\n",
        "char = b\"\\xe4\\xbd\\xa0\".decode()\n",
        "\n",
        "print(f\"char={char}, its bytes={char_bytes},char_bytes.len={char_bytes.__len__()}\")\n"
      ],
      "metadata": {
        "colab": {
          "base_uri": "https://localhost:8080/"
        },
        "id": "EW4zJJh_U1Jv",
        "outputId": "d4e089b4-fd68-4611-c8fe-0bcd0b7b81f0"
      },
      "execution_count": 30,
      "outputs": [
        {
          "output_type": "stream",
          "name": "stdout",
          "text": [
            "char=你, its bytes=b'\\xe4\\xbd\\xa0',char_bytes.len=3\n"
          ]
        }
      ]
    }
  ]
}